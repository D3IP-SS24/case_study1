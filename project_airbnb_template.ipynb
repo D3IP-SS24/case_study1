{
 "cells": [
  {
   "cell_type": "markdown",
   "metadata": {
    "id": "RZzQrlYHFI-c",
    "slideshow": {
     "slide_type": "slide"
    }
   },
   "source": [
    "<div class='bar_title'></div>\n",
    "\n",
    "*Data Driven Decisions in Practice (D3IP): Urban Analytics*\n",
    "\n",
    "# Case Study: Predicting AirBnB Accomodation Prices\n",
    "\n",
    "Gunther Gust & Nikolai Stein\n",
    "\n",
    "Data Driven Decisions (D3) Group <br>\n",
    "Center for Artificial Intelligence & Data Science <br>\n",
    "\n"
   ]
  },
  {
   "cell_type": "markdown",
   "metadata": {},
   "source": [
    "<img src=\"images/d3.png\" style=\"width:20%; float:left;\" />"
   ]
  },
  {
   "cell_type": "markdown",
   "metadata": {},
   "source": [
    "<img src=\"images/CAIDASlogo.png\" style=\"width:20%; float:left;\" />"
   ]
  },
  {
   "cell_type": "markdown",
   "metadata": {
    "id": "bKaui31bFI-d",
    "slideshow": {
     "slide_type": "slide"
    }
   },
   "source": [
    "Complete the case study outlined by the steps below. Remember to always comment your code and document your findings so that your notebook is easy to read and follow! (Apart from correctness, the style of the notebook will also affect your grade!)\n",
    "\n"
   ]
  },
  {
   "cell_type": "markdown",
   "metadata": {},
   "source": [
    "# PART 1: Data Loading and Exploratory Data Analysis"
   ]
  },
  {
   "cell_type": "markdown",
   "metadata": {},
   "source": [
    "Insructions:\n",
    "\n",
    "* Load the `airbnb.geojson` file into this notebook as a geodataframe\n",
    "* Explore the content of each column of the geodataframe using methods of your choice (descriptive statistics, plots etc.). Describe your findings in the markdown cells.\n",
    "* Create a plot that displays the location of the airbnb listings and the price. Add a basemap of San Diego to the plot."
   ]
  },
  {
   "cell_type": "code",
   "execution_count": 1,
   "metadata": {},
   "outputs": [],
   "source": [
    "import pandas as pd\n",
    "import numpy as np\n",
    "import geopandas as gpd\n",
    "\n",
    "import matplotlib.pyplot as plt \n",
    "import seaborn as sns\n",
    "import contextily as cx"
   ]
  },
  {
   "cell_type": "code",
   "execution_count": 3,
   "metadata": {},
   "outputs": [
    {
     "name": "stdout",
     "output_type": "stream",
     "text": [
      "   accommodates  bathrooms  bedrooms  beds  rt_Private_room  rt_Shared_room  \\\n",
      "0             5        2.0       2.0   2.0                0               0   \n",
      "1             6        1.0       2.0   4.0                0               0   \n",
      "2             2        1.0       1.0   1.0                1               0   \n",
      "3             2        1.0       1.0   1.0                1               0   \n",
      "4             2        1.0       1.0   1.0                1               0   \n",
      "\n",
      "   pg_Condominium  pg_House  pg_Other  pg_Townhouse  price  \\\n",
      "0               0         1         0             0  425.0   \n",
      "1               1         0         0             0  205.0   \n",
      "2               0         0         0             0   99.0   \n",
      "3               0         1         0             0   72.0   \n",
      "4               0         1         0             0   55.0   \n",
      "\n",
      "                      geometry  \n",
      "0  POINT (-117.12971 32.75399)  \n",
      "1  POINT (-117.25253 32.78421)  \n",
      "2  POINT (-117.14121 32.75327)  \n",
      "3  POINT (-117.15269 32.93110)  \n",
      "4  POINT (-117.21870 32.74202)  \n"
     ]
    }
   ],
   "source": [
    "# Load the geodataframe <insert your code here>.... \n",
    "import geopandas as gpd\n",
    "gdf = gpd.read_file('airbnb_listings.geojson')\n",
    "print(gdf.head())"
   ]
  },
  {
   "cell_type": "markdown",
   "metadata": {},
   "source": [
    "These are the variables you should analyze and later use to predict the `price`:"
   ]
  },
  {
   "cell_type": "code",
   "execution_count": null,
   "metadata": {},
   "outputs": [],
   "source": [
    "\n",
    "variable_names = [\n",
    "    \"accommodates\",  # Number of people it accommodates\n",
    "    \"bathrooms\",  # Number of bathrooms\n",
    "    \"bedrooms\",  # Number of bedrooms\n",
    "    \"beds\",  # Number of beds\n",
    "    # Below are binary variables, 1 True, 0 False\n",
    "    \"rt_Private_room\",  # Room type: private room\n",
    "    \"rt_Shared_room\",  # Room type: shared room\n",
    "    \"pg_Condominium\",  # Property group: condo\n",
    "    \"pg_House\",  # Property group: house\n",
    "    \"pg_Other\",  # Property group: other\n",
    "    \"pg_Townhouse\",  # Property group: townhouse\n",
    "]"
   ]
  },
  {
   "cell_type": "markdown",
   "metadata": {},
   "source": [
    "# PART 2 Feature Engineering: Get points-of-interest (POIs) and prepare them"
   ]
  },
  {
   "cell_type": "markdown",
   "metadata": {},
   "source": [
    "Instructions:\n",
    "\n",
    "* Use the method `features_from_address()` of osmnx to download POIs of the type `amenity` (select the types of amenities to include from this list here: https://wiki.openstreetmap.org/wiki/Key:amenity)\n",
    "* Pay attention to set the `dist` parameter to an appropiate value "
   ]
  },
  {
   "cell_type": "code",
   "execution_count": 4,
   "metadata": {},
   "outputs": [],
   "source": [
    "import osmnx as ox"
   ]
  },
  {
   "cell_type": "code",
   "execution_count": 7,
   "metadata": {},
   "outputs": [
    {
     "name": "stdout",
     "output_type": "stream",
     "text": [
      "                        addr:city addr:housenumber addr:postcode addr:state  \\\n",
      "element_type osmid                                                            \n",
      "node         286316702  San Diego              721         92101         CA   \n",
      "             297819169  San Diego              222         92101         CA   \n",
      "             339168755        NaN              NaN           NaN        NaN   \n",
      "             353135501        NaN              NaN           NaN        NaN   \n",
      "             353135502        NaN              NaN           NaN        NaN   \n",
      "\n",
      "                          addr:street     amenity            name  \\\n",
      "element_type osmid                                                  \n",
      "node         286316702     9th Avenue  restaurant  Wicked Chicken   \n",
      "             297819169  Island Avenue  restaurant        Cafe 222   \n",
      "             339168755            NaN  restaurant         Barbusa   \n",
      "             353135501            NaN  restaurant    The Wits End   \n",
      "             353135502            NaN  restaurant  The Thai Grill   \n",
      "\n",
      "                                           geometry changing_table  \\\n",
      "element_type osmid                                                   \n",
      "node         286316702  POINT (-117.15631 32.71273)            NaN   \n",
      "             297819169  POINT (-117.16267 32.71056)            yes   \n",
      "             339168755  POINT (-117.16850 32.72478)            NaN   \n",
      "             353135501  POINT (-117.16126 32.74724)            NaN   \n",
      "             353135502  POINT (-117.16118 32.74724)            NaN   \n",
      "\n",
      "                                   cuisine  ... owner protection_title  \\\n",
      "element_type osmid                          ...                          \n",
      "node         286316702                 NaN  ...   NaN              NaN   \n",
      "             297819169  breakfast;sandwich  ...   NaN              NaN   \n",
      "             339168755             italian  ...   NaN              NaN   \n",
      "             353135501                 NaN  ...   NaN              NaN   \n",
      "             353135502                 NaN  ...   NaN              NaN   \n",
      "\n",
      "                       ref:nrhp source_ref start_date layer fast_food access  \\\n",
      "element_type osmid                                                             \n",
      "node         286316702      NaN        NaN        NaN   NaN       NaN    NaN   \n",
      "             297819169      NaN        NaN        NaN   NaN       NaN    NaN   \n",
      "             339168755      NaN        NaN        NaN   NaN       NaN    NaN   \n",
      "             353135501      NaN        NaN        NaN   NaN       NaN    NaN   \n",
      "             353135502      NaN        NaN        NaN   NaN       NaN    NaN   \n",
      "\n",
      "                       male short_name  \n",
      "element_type osmid                      \n",
      "node         286316702  NaN        NaN  \n",
      "             297819169  NaN        NaN  \n",
      "             339168755  NaN        NaN  \n",
      "             353135501  NaN        NaN  \n",
      "             353135502  NaN        NaN  \n",
      "\n",
      "[5 rows x 122 columns]\n"
     ]
    }
   ],
   "source": [
    "# Download the POI data <your code here> ...\n",
    "\n",
    "def download_pois(address, distance, amenities):\n",
    "    gdf = ox.features_from_address(address=address, dist=distance, tags={'amenity': amenities})\n",
    "    return gdf\n",
    "\n",
    "\n",
    "address = \"San Diego, California, USA\"\n",
    "distance = 5000\n",
    "amenities = ['restaurant', 'cafe']\n",
    "\n",
    "pois = download_pois(address, distance, amenities)\n",
    "\n",
    "print(pois.head())"
   ]
  },
  {
   "cell_type": "code",
   "execution_count": null,
   "metadata": {},
   "outputs": [],
   "source": [
    "pois.head()"
   ]
  },
  {
   "cell_type": "markdown",
   "metadata": {},
   "source": [
    "Data cleaning: The resulting `pois` geodataframe may have a composite row index. In addition, some POIs may be of a strange element_type. You can use the following code to eliminate these issues."
   ]
  },
  {
   "cell_type": "code",
   "execution_count": 8,
   "metadata": {},
   "outputs": [
    {
     "data": {
      "text/html": [
       "<div>\n",
       "<style scoped>\n",
       "    .dataframe tbody tr th:only-of-type {\n",
       "        vertical-align: middle;\n",
       "    }\n",
       "\n",
       "    .dataframe tbody tr th {\n",
       "        vertical-align: top;\n",
       "    }\n",
       "\n",
       "    .dataframe thead th {\n",
       "        text-align: right;\n",
       "    }\n",
       "</style>\n",
       "<table border=\"1\" class=\"dataframe\">\n",
       "  <thead>\n",
       "    <tr style=\"text-align: right;\">\n",
       "      <th></th>\n",
       "      <th>element_type</th>\n",
       "      <th>osmid</th>\n",
       "      <th>addr:city</th>\n",
       "      <th>addr:housenumber</th>\n",
       "      <th>addr:postcode</th>\n",
       "      <th>addr:state</th>\n",
       "      <th>addr:street</th>\n",
       "      <th>amenity</th>\n",
       "      <th>name</th>\n",
       "      <th>geometry</th>\n",
       "      <th>...</th>\n",
       "      <th>owner</th>\n",
       "      <th>protection_title</th>\n",
       "      <th>ref:nrhp</th>\n",
       "      <th>source_ref</th>\n",
       "      <th>start_date</th>\n",
       "      <th>layer</th>\n",
       "      <th>fast_food</th>\n",
       "      <th>access</th>\n",
       "      <th>male</th>\n",
       "      <th>short_name</th>\n",
       "    </tr>\n",
       "  </thead>\n",
       "  <tbody>\n",
       "    <tr>\n",
       "      <th>0</th>\n",
       "      <td>node</td>\n",
       "      <td>286316702</td>\n",
       "      <td>San Diego</td>\n",
       "      <td>721</td>\n",
       "      <td>92101</td>\n",
       "      <td>CA</td>\n",
       "      <td>9th Avenue</td>\n",
       "      <td>restaurant</td>\n",
       "      <td>Wicked Chicken</td>\n",
       "      <td>POINT (-117.15631 32.71273)</td>\n",
       "      <td>...</td>\n",
       "      <td>NaN</td>\n",
       "      <td>NaN</td>\n",
       "      <td>NaN</td>\n",
       "      <td>NaN</td>\n",
       "      <td>NaN</td>\n",
       "      <td>NaN</td>\n",
       "      <td>NaN</td>\n",
       "      <td>NaN</td>\n",
       "      <td>NaN</td>\n",
       "      <td>NaN</td>\n",
       "    </tr>\n",
       "    <tr>\n",
       "      <th>1</th>\n",
       "      <td>node</td>\n",
       "      <td>297819169</td>\n",
       "      <td>San Diego</td>\n",
       "      <td>222</td>\n",
       "      <td>92101</td>\n",
       "      <td>CA</td>\n",
       "      <td>Island Avenue</td>\n",
       "      <td>restaurant</td>\n",
       "      <td>Cafe 222</td>\n",
       "      <td>POINT (-117.16267 32.71056)</td>\n",
       "      <td>...</td>\n",
       "      <td>NaN</td>\n",
       "      <td>NaN</td>\n",
       "      <td>NaN</td>\n",
       "      <td>NaN</td>\n",
       "      <td>NaN</td>\n",
       "      <td>NaN</td>\n",
       "      <td>NaN</td>\n",
       "      <td>NaN</td>\n",
       "      <td>NaN</td>\n",
       "      <td>NaN</td>\n",
       "    </tr>\n",
       "    <tr>\n",
       "      <th>2</th>\n",
       "      <td>node</td>\n",
       "      <td>339168755</td>\n",
       "      <td>NaN</td>\n",
       "      <td>NaN</td>\n",
       "      <td>NaN</td>\n",
       "      <td>NaN</td>\n",
       "      <td>NaN</td>\n",
       "      <td>restaurant</td>\n",
       "      <td>Barbusa</td>\n",
       "      <td>POINT (-117.16850 32.72478)</td>\n",
       "      <td>...</td>\n",
       "      <td>NaN</td>\n",
       "      <td>NaN</td>\n",
       "      <td>NaN</td>\n",
       "      <td>NaN</td>\n",
       "      <td>NaN</td>\n",
       "      <td>NaN</td>\n",
       "      <td>NaN</td>\n",
       "      <td>NaN</td>\n",
       "      <td>NaN</td>\n",
       "      <td>NaN</td>\n",
       "    </tr>\n",
       "    <tr>\n",
       "      <th>3</th>\n",
       "      <td>node</td>\n",
       "      <td>353135501</td>\n",
       "      <td>NaN</td>\n",
       "      <td>NaN</td>\n",
       "      <td>NaN</td>\n",
       "      <td>NaN</td>\n",
       "      <td>NaN</td>\n",
       "      <td>restaurant</td>\n",
       "      <td>The Wits End</td>\n",
       "      <td>POINT (-117.16126 32.74724)</td>\n",
       "      <td>...</td>\n",
       "      <td>NaN</td>\n",
       "      <td>NaN</td>\n",
       "      <td>NaN</td>\n",
       "      <td>NaN</td>\n",
       "      <td>NaN</td>\n",
       "      <td>NaN</td>\n",
       "      <td>NaN</td>\n",
       "      <td>NaN</td>\n",
       "      <td>NaN</td>\n",
       "      <td>NaN</td>\n",
       "    </tr>\n",
       "    <tr>\n",
       "      <th>4</th>\n",
       "      <td>node</td>\n",
       "      <td>353135502</td>\n",
       "      <td>NaN</td>\n",
       "      <td>NaN</td>\n",
       "      <td>NaN</td>\n",
       "      <td>NaN</td>\n",
       "      <td>NaN</td>\n",
       "      <td>restaurant</td>\n",
       "      <td>The Thai Grill</td>\n",
       "      <td>POINT (-117.16118 32.74724)</td>\n",
       "      <td>...</td>\n",
       "      <td>NaN</td>\n",
       "      <td>NaN</td>\n",
       "      <td>NaN</td>\n",
       "      <td>NaN</td>\n",
       "      <td>NaN</td>\n",
       "      <td>NaN</td>\n",
       "      <td>NaN</td>\n",
       "      <td>NaN</td>\n",
       "      <td>NaN</td>\n",
       "      <td>NaN</td>\n",
       "    </tr>\n",
       "  </tbody>\n",
       "</table>\n",
       "<p>5 rows × 124 columns</p>\n",
       "</div>"
      ],
      "text/plain": [
       "  element_type      osmid  addr:city addr:housenumber addr:postcode  \\\n",
       "0         node  286316702  San Diego              721         92101   \n",
       "1         node  297819169  San Diego              222         92101   \n",
       "2         node  339168755        NaN              NaN           NaN   \n",
       "3         node  353135501        NaN              NaN           NaN   \n",
       "4         node  353135502        NaN              NaN           NaN   \n",
       "\n",
       "  addr:state    addr:street     amenity            name  \\\n",
       "0         CA     9th Avenue  restaurant  Wicked Chicken   \n",
       "1         CA  Island Avenue  restaurant        Cafe 222   \n",
       "2        NaN            NaN  restaurant         Barbusa   \n",
       "3        NaN            NaN  restaurant    The Wits End   \n",
       "4        NaN            NaN  restaurant  The Thai Grill   \n",
       "\n",
       "                      geometry  ... owner protection_title ref:nrhp  \\\n",
       "0  POINT (-117.15631 32.71273)  ...   NaN              NaN      NaN   \n",
       "1  POINT (-117.16267 32.71056)  ...   NaN              NaN      NaN   \n",
       "2  POINT (-117.16850 32.72478)  ...   NaN              NaN      NaN   \n",
       "3  POINT (-117.16126 32.74724)  ...   NaN              NaN      NaN   \n",
       "4  POINT (-117.16118 32.74724)  ...   NaN              NaN      NaN   \n",
       "\n",
       "  source_ref start_date layer fast_food access male short_name  \n",
       "0        NaN        NaN   NaN       NaN    NaN  NaN        NaN  \n",
       "1        NaN        NaN   NaN       NaN    NaN  NaN        NaN  \n",
       "2        NaN        NaN   NaN       NaN    NaN  NaN        NaN  \n",
       "3        NaN        NaN   NaN       NaN    NaN  NaN        NaN  \n",
       "4        NaN        NaN   NaN       NaN    NaN  NaN        NaN  \n",
       "\n",
       "[5 rows x 124 columns]"
      ]
     },
     "execution_count": 8,
     "metadata": {},
     "output_type": "execute_result"
    }
   ],
   "source": [
    "# Clean the POI data\n",
    "pois.reset_index(inplace=True) # reset the index of the data frame\n",
    "pois = pois[pois.element_type==\"node\"] # eliminate all POIs that are not of the type \"node\"\n",
    "pois.head() # check the results"
   ]
  },
  {
   "cell_type": "markdown",
   "metadata": {},
   "source": [
    "Instructions:\n",
    "* Plot the POIs spatially (use again a background map of San Diego)\n",
    "* When you use POIs of different amenity types, color the POIs differently"
   ]
  },
  {
   "cell_type": "code",
   "execution_count": 11,
   "metadata": {},
   "outputs": [
    {
     "data": {
      "image/png": "[encoded data removed]",
      "text/plain": [
       "<Figure size 640x480 with 1 Axes>"
      ]
     },
     "metadata": {},
     "output_type": "display_data"
    }
   ],
   "source": [
    "# <Your code here>\n",
    "pois.plot()\n",
    "airbnb = pois"
   ]
  },
  {
   "cell_type": "markdown",
   "metadata": {},
   "source": [
    "For each POI amenity type, create a kernel density estimation (KDE):\n",
    "* Convert the `geometry` of the POI into a suitable coordinate data format (you may use the provided function `create_coordinate_array` for this)\n",
    "* Feed the resulting coordinates into the `gaussian_kde` function and estimate the function\n",
    "* Also convert the `geometry` of the Airbnb listings into the coordinate data format (you may use the provided function `create_coordinate_array` for this)\n",
    "* Using the converted Airbnb geometries, compute the KDE for the locations of the Airbnb listings\n",
    "* Add the KDE estimate as additional columns to your original airbnb geodataframe"
   ]
  },
  {
   "cell_type": "code",
   "execution_count": 13,
   "metadata": {},
   "outputs": [],
   "source": [
    "from scipy.stats import gaussian_kde"
   ]
  },
  {
   "cell_type": "code",
   "execution_count": 15,
   "metadata": {},
   "outputs": [],
   "source": [
    "# helper function to convert the geometries into a suitable coordinate format for the KDE\n",
    "def create_coordinate_array(geometries): \n",
    "    x_values = []\n",
    "    y_values = []\n",
    "\n",
    "# Iterate through each row in the GeoDataFrame\n",
    "    for multipoint in geometries:\n",
    "        # Ensure the geometry is indeed MultiPoint; if it's just a single Point, wrap it in a list\n",
    "        points = list(multipoint.geoms) if hasattr(multipoint, \"geoms\") else [multipoint]\n",
    "        \n",
    "        # For each Point in the MultiPoint, extract x and y values\n",
    "        for point in points:\n",
    "            x_values.append(point.x)\n",
    "            y_values.append(point.y)\n",
    "\n",
    "    # Optionally, convert the lists to numpy arrays for further processing\n",
    "    x_values = np.array(x_values)\n",
    "    y_values = np.array(y_values)\n",
    "\n",
    "    # Rearrange data to create a 2D array of x and y coordinates\n",
    "    xy = np.vstack([x_values,y_values])\n",
    "\n",
    "    return xy\n",
    "\n",
    "\n",
    "# Example Usage for the Airbnb geodataframe\n",
    "airbnb_array = create_coordinate_array(airbnb.geometry)"
   ]
  },
  {
   "cell_type": "code",
   "execution_count": 18,
   "metadata": {},
   "outputs": [],
   "source": [
    "#<Your code here>\n",
    "# Compute the density estimation\n",
    "kde = gaussian_kde(airbnb_array)\n",
    "x_values = airbnb_array[0,:]\n",
    "y_values = airbnb_array[1,:]\n",
    "\n",
    "# Define the grid points where you want to calculate the density\n",
    "xmin, xmax = x_values.min(), x_values.max()\n",
    "ymin, ymax = y_values.min(), y_values.max()\n",
    "xx, yy = np.mgrid[xmin:xmax:100j, ymin:ymax:100j] #generate 100 evenly spaced points between min and max\n",
    "\n",
    "# Evaluate the density at grid points\n",
    "density = kde(np.vstack([xx.ravel(), yy.ravel()]))\n",
    "density = density.reshape(xx.shape) # reshape to the original shape of xx (for plotting)\n",
    "\n"
   ]
  },
  {
   "cell_type": "markdown",
   "metadata": {},
   "source": [
    "Create a spatial point plot(s) of the Airbnb listings and color the points according to the KDE estimates, in order to check your results."
   ]
  },
  {
   "cell_type": "code",
   "execution_count": 19,
   "metadata": {},
   "outputs": [
    {
     "data": {
      "image/png": "[encoded data removed]",
      "text/plain": [
       "<Figure size 640x480 with 2 Axes>"
      ]
     },
     "metadata": {},
     "output_type": "display_data"
    }
   ],
   "source": [
    "# <your code here>\n",
    "plt.imshow(np.rot90(density), cmap='hot', extent=[xmin, xmax, ymin, ymax])\n",
    "plt.colorbar(label='Density')\n",
    "plt.scatter(x_values, y_values, s=10, c='blue', alpha=0.5)\n",
    "plt.title('Grocery Stores Density')\n",
    "plt.xlabel('Longitude')\n",
    "plt.ylabel('Latitude')\n",
    "plt.show()"
   ]
  },
  {
   "cell_type": "markdown",
   "metadata": {},
   "source": [
    "# PART 3: Modeling and Analysis (aka Machine Learning)"
   ]
  },
  {
   "cell_type": "markdown",
   "metadata": {},
   "source": [
    "Use your dataset generated in the previous steps to predict AirBnb prices\n",
    "\n",
    "Instructions:\n",
    "\n",
    "* Split your data set into training and validation data sets\n",
    "* Define an error metric (or several)\n",
    "* Train at least one machine learning model (e.g. random forest) \n",
    "* Tune the hyperparameters (if applicable for the model)\n",
    "* Evaluate the accuracy of the predicted prices against actual prices\n",
    "* Compare the performance of the previous models when using different input data sets (benchmarks). Make sure to include the naive benchmark of predicting always the mean price."
   ]
  },
  {
   "cell_type": "code",
   "execution_count": null,
   "metadata": {},
   "outputs": [],
   "source": [
    "from sklearn.model_selection import train_test_split\n",
    "\n",
    "X = \"\"\n",
    "y = \"\""
   ]
  },
  {
   "cell_type": "markdown",
   "metadata": {},
   "source": [
    "## Model 1: Trivial Baseline"
   ]
  },
  {
   "cell_type": "code",
   "execution_count": null,
   "metadata": {},
   "outputs": [],
   "source": [
    "# Trivial baseline: Predict always the mean price \n",
    "# <your code here>"
   ]
  },
  {
   "cell_type": "markdown",
   "metadata": {},
   "source": [
    "## Model 2: ..."
   ]
  },
  {
   "cell_type": "code",
   "execution_count": null,
   "metadata": {},
   "outputs": [],
   "source": [
    "# <your code here>"
   ]
  },
  {
   "cell_type": "markdown",
   "metadata": {},
   "source": [
    "## Model 3: ..."
   ]
  }
 ],
 "metadata": {
  "celltoolbar": "Slideshow",
  "colab": {
   "provenance": []
  },
  "kernelspec": {
   "display_name": "Python 3 (ipykernel)",
   "language": "python",
   "name": "python3"
  },
  "language_info": {
   "codemirror_mode": {
    "name": "ipython",
    "version": 3
   },
   "file_extension": ".py",
   "mimetype": "text/x-python",
   "name": "python",
   "nbconvert_exporter": "python",
   "pygments_lexer": "ipython3",
   "version": "3.8.17"
  },
  "rise": {
   "enable_chalkboard": false,
   "overlay": "<div class='background'></div><div class='header'>WS 23/24</br>Smart Cities & GSDA</div><div class='logo'><img src='images/unilogo.png'></div><div class='bar'></div>",
   "scroll": true,
   "slideNumber": "h.v"
  },
  "toc-autonumbering": false,
  "toc-showtags": false
 },
 "nbformat": 4,
 "nbformat_minor": 4
}
