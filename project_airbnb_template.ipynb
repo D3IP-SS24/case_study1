{
 "cells": [
  {
   "cell_type": "markdown",
   "metadata": {
    "id": "RZzQrlYHFI-c",
    "slideshow": {
     "slide_type": "slide"
    }
   },
   "source": [
    "<div class='bar_title'></div>\n",
    "\n",
    "*Data Driven Decisions in Practice (D3IP): Urban Analytics*\n",
    "\n",
    "# Case Study: Predicting AirBnB Accomodation Prices\n",
    "\n",
    "Gunther Gust & Nikolai Stein\n",
    "\n",
    "Data Driven Decisions (D3) Group <br>\n",
    "Center for Artificial Intelligence & Data Science <br>\n",
    "\n"
   ]
  },
  {
   "cell_type": "markdown",
   "metadata": {},
   "source": [
    "<img src=\"images/d3.png\" style=\"width:20%; float:left;\" />"
   ]
  },
  {
   "cell_type": "markdown",
   "metadata": {},
   "source": [
    "<img src=\"images/CAIDASlogo.png\" style=\"width:20%; float:left;\" />"
   ]
  },
  {
   "cell_type": "markdown",
   "metadata": {
    "id": "bKaui31bFI-d",
    "slideshow": {
     "slide_type": "slide"
    }
   },
   "source": [
    "Complete the case study outlined by the steps below. Remember to always comment your code and document your findings so that your notebook is easy to read and follow! (Apart from correctness, the style of the notebook will also affect your grade!)\n",
    "\n"
   ]
  },
  {
   "cell_type": "markdown",
   "metadata": {},
   "source": [
    "# PART 1: Data Loading and Exploratory Data Analysis"
   ]
  },
  {
   "cell_type": "markdown",
   "metadata": {},
   "source": [
    "Insructions:\n",
    "\n",
    "* Load the `airbnb.geojson` file into this notebook as a geodataframe\n",
    "* Explore the content of each column of the geodataframe using methods of your choice (descriptive statistics, plots etc.). Describe your findings in the markdown cells.\n",
    "* Create a plot that displays the location of the airbnb listings and the price. Add a basemap of San Diego to the plot."
   ]
  },
  {
   "cell_type": "code",
   "execution_count": null,
   "metadata": {},
   "outputs": [],
   "source": [
    "import pandas as pd\n",
    "import numpy as np\n",
    "import geopandas as gpd\n",
    "\n",
    "import matplotlib.pyplot as plt \n",
    "import seaborn as sns\n",
    "import contextily as cx"
   ]
  },
  {
   "cell_type": "code",
   "execution_count": null,
   "metadata": {},
   "outputs": [],
   "source": [
    "# Load the geodataframe <insert your code here>....\n",
    "db = gpd.read_file(\"airbnb_listings.geojson\")\n",
    "\n",
    "#exploring the dataset\n",
    "f, ax = plt.subplots(1, figsize=(16, 16))\n",
    "db.plot(ax = ax, column = 'price', legend = True, alpha = 0.5, cmap = 'inferno', markersize = 10)\n",
    "cx.add_basemap(ax, crs = db.crs, source=cx.providers.Esri.WorldImagery)\n",
    "plt.show()\n",
    "db.describe()\n",
    "\n",
    "#Beobachtungen: \n",
    "#- sehr viele sehr günstige AirBnBs (75% kosten bis zu 250$), ein paar wenige Ausreißer die extrem teuer sind (max 4900$)\n",
    "#- Preisbereich obere 25% liegen auffällig nahe an den Küstenregionen / Strandregionen\n",
    "#- rechter Cluster ist ringförmig (Balboa Park in der Mitte mit Zoo)\n",
    "#- La Jolla hat besonders viele AirBnBs aus den oberen 25%"
   ]
  },
  {
   "cell_type": "markdown",
   "metadata": {},
   "source": [
    "These are the variables you should analyze and later use to predict the `price`:"
   ]
  },
  {
   "cell_type": "code",
   "execution_count": null,
   "metadata": {},
   "outputs": [],
   "source": [
    "\n",
    "variable_names = [\n",
    "    \"accommodates\",  # Number of people it accommodates\n",
    "    \"bathrooms\",  # Number of bathrooms\n",
    "    \"bedrooms\",  # Number of bedrooms\n",
    "    \"beds\",  # Number of beds\n",
    "    # Below are binary variables, 1 True, 0 False\n",
    "    \"rt_Private_room\",  # Room type: private room\n",
    "    \"rt_Shared_room\",  # Room type: shared room\n",
    "    \"pg_Condominium\",  # Property group: condo\n",
    "    \"pg_House\",  # Property group: house\n",
    "    \"pg_Other\",  # Property group: other\n",
    "    \"pg_Townhouse\",  # Property group: townhouse\n",
    "]"
   ]
  },
  {
   "cell_type": "markdown",
   "metadata": {},
   "source": [
    "# PART 2 Feature Engineering: Get points-of-interest (POIs) and prepare them"
   ]
  },
  {
   "cell_type": "markdown",
   "metadata": {},
   "source": [
    "Instructions:\n",
    "\n",
    "* Use the method `features_from_address()` of osmnx to download POIs of the type `amenity` (select the types of amenities to include from this list here: https://wiki.openstreetmap.org/wiki/Key:amenity)\n",
    "* Pay attention to set the `dist` parameter to an appropiate value "
   ]
  },
  {
   "cell_type": "code",
   "execution_count": null,
   "metadata": {},
   "outputs": [],
   "source": [
    "import osmnx as ox"
   ]
  },
  {
   "cell_type": "code",
   "execution_count": null,
   "metadata": {},
   "outputs": [],
   "source": [
    "# Download the POI data <your code here> ...\n",
    "import osmnx as ox\n",
    "#for plotting\n",
    "pois = ox.features_from_address(\"San Diego, USA\", dist = 5000, tags = {\"amenity\" : [\"bar\", \"atm\", \"cafe\", \"restaurant\"]})\n",
    "\n",
    "#for KDE\n",
    "poiBars = ox.features_from_address(\"San Diego, USA\", dist = 5000, tags = {\"amenity\" : \"bar\"})\n",
    "poiATMs = ox.features_from_address(\"San Diego, USA\", dist = 5000, tags = {\"amenity\" : \"atm\"})\n",
    "poiCafes = ox.features_from_address(\"San Diego, USA\", dist = 5000, tags = {\"amenity\" : \"cafe\"})\n",
    "poiRestaurants = ox.features_from_address(\"San Diego, USA\", dist = 5000, tags = {\"amenity\" : \"restaurant\"})\n"
   ]
  },
  {
   "cell_type": "code",
   "execution_count": null,
   "metadata": {},
   "outputs": [],
   "source": [
    "#poiBars.head()\n",
    "pois.head()"
   ]
  },
  {
   "cell_type": "markdown",
   "metadata": {},
   "source": [
    "Data cleaning: The resulting `pois` geodataframe may have a composite row index. In addition, some POIs may be of a strange element_type. You can use the following code to eliminate these issues."
   ]
  },
  {
   "cell_type": "code",
   "execution_count": null,
   "metadata": {},
   "outputs": [],
   "source": [
    "# Clean the POI data\n",
    "pois.reset_index(inplace=True) # reset the index of the data frame\n",
    "pois = pois[pois.element_type==\"node\"] # eliminate all POIs that are not of the type \"node\"\n",
    "#pois.head() # check the results\n",
    "\n",
    "#Clean POI bei amenity\n",
    "#Bar Point of Interests\n",
    "poiBars.reset_index(inplace=True)\n",
    "poiBars = poiBars[poiBars.element_type == \"node\"]\n",
    "#poiBars.head()\n",
    "\n",
    "#ATM Point of Interests\n",
    "poiATMs.reset_index(inplace=True)\n",
    "poiATMs = poiATMs[poiATMs.element_type == \"node\"]\n",
    "#poiATMs.head()\n",
    "\n",
    "#Cafe Point of Interests\n",
    "poiCafes.reset_index(inplace=True)\n",
    "poiCafes = poiCafes[poiCafes.element_type == \"node\"]\n",
    "#poiCafes.head()\n",
    "\n",
    "#Restaurant Point of Interests\n",
    "poiRestaurants.reset_index(inplace=True)\n",
    "poiRestaurants = poiRestaurants[poiRestaurants.element_type == \"node\"]\n",
    "#poiRestaurants.head()"
   ]
  },
  {
   "cell_type": "markdown",
   "metadata": {},
   "source": [
    "Instructions:\n",
    "* Plot the POIs spatially (use again a background map of San Diego)\n",
    "* When you use POIs of different amenity types, color the POIs differently"
   ]
  },
  {
   "cell_type": "code",
   "execution_count": null,
   "metadata": {},
   "outputs": [],
   "source": [
    "# <Your code here>\n",
    "#pois.plot(alpha = 0.1)\n",
    "# Setup figure and axis\n",
    "#f, ax = plt.subplots(1)\n",
    "# Plot layer of polygons on the axis\n",
    "#ax = pois.plot(alpha = 0.1, ax=ax)\n",
    "# Remove axis frames\n",
    "#ax.set_axis_off()\n",
    "# Display\n",
    "#plt.show()\n",
    "\n",
    "\n",
    "#subplots per POI by amenity\n",
    "#Bars\n",
    "#fBars, axBars = plt.subplots(1)\n",
    "#axBars = poiBars.plot(alpha = 0.1, ax=axBars)\n",
    "#axBars.set_axis_off()\n",
    "#plt.show()\n",
    "\n",
    "#ATMs\n",
    "#fATMs, axATMs = plt.subplots(1)\n",
    "#axATMs = poiATMs.plot(alpha = 0.1, ax=axATMs, color = 'brown')\n",
    "#axATMs.set_axis_off()\n",
    "#plt.show()\n",
    "\n",
    "#Cafes\n",
    "#fCafes, axCafes = plt.subplots(1)\n",
    "#axCafes = poiCafes.plot(alpha = 0.1, ax=axCafes, color = 'orange')\n",
    "#axCafes.set_axis_off()\n",
    "#plt.show()\n",
    "\n",
    "#Restaurants\n",
    "#fRestaurants, axRestaurants = plt.subplots(1)\n",
    "#axRestaurants = poiRestaurants.plot(alpha = 0.1, ax=axRestaurants, color = 'green')\n",
    "#axRestaurants.set_axis_off()\n",
    "#plt.show()\n",
    "\n",
    "#sanDiego = db.loc[[12], :].to_crs(epsg=4326)\n",
    "\n",
    "#ORIGINAL LÖSUNG#\n",
    "fAllPOIs, ax = plt.subplots(1)\n",
    "#poiBars.plot(alpha = 0.5, ax = ax, edgecolor = 'black')\n",
    "#poiATMs.plot(alpha = 0.3, ax = ax, color = 'purple', edgecolor = 'black')\n",
    "#poiCafes.plot(alpha = 0.5, ax = ax, color = 'orange', edgecolor = 'black')\n",
    "#poiRestaurants.plot(alpha = 0.15, ax = ax, color = 'black', edgecolor = 'black')\n",
    "#ORIGINAL LÖSUNG#\n",
    "\n",
    "#poiBars.plot(alpha = 0.3, ax = ax, column = 'amenity', legend = True)\n",
    "#poiATMs.plot(alpha = 0.25, ax = ax, column = 'amenity', legend = True)\n",
    "#poiCafes.plot(alpha = 0.3, ax = ax, column = 'amenity', legend = True)\n",
    "#poiRestaurants.plot(alpha = 0.2, ax = ax, column = 'amenity', legend = True)\n",
    "\n",
    "#poiBars.plot(ax = ax, column = 'amenity', legend = True, alpha = 0.5)\n",
    "#poiATMs.plot(ax = ax, column = 'amenity', legend = True, alpha = 0.5)\n",
    "#poiCafes.plot(ax = ax, column = 'amenity', legend = True, alpha = 0.5)\n",
    "#poiRestaurants.plot(ax = ax, column = 'amenity', legend = True, alpha = 0.5)\n",
    "\n",
    "\n",
    "#ORIGINAL LÖSUNG#\n",
    "#cx.add_basemap(ax, crs = db.crs)\n",
    "\n",
    "#fAllPOIs.suptitle(\"Color code for POIs of different types of amenity in San Diego\")\n",
    "#ax.set_title(\"Blue = Bars | Purple = ATMs | Orange = Cafes | Black = Restaurants\")\n",
    "#ax.set_axis_off()\n",
    "\n",
    "#plt.show()\n",
    "#ORIGINAL LÖSUNG#\n",
    "\n",
    "pois.plot(alpha = 1, ax = ax, edgecolor = 'black', column = 'amenity', legend = True, cmap = 'plasma')\n",
    "cx.add_basemap(ax, crs = db.crs)\n",
    "ax.set_title(\"Amenities in San Diego\")\n",
    "ax.set_axis_off()\n",
    "plt.show()\n",
    "\n",
    "\n"
   ]
  },
  {
   "cell_type": "markdown",
   "metadata": {},
   "source": [
    "For each POI amenity type, create a kernel density estimation (KDE):\n",
    "* Convert the `geometry` of the POI into a suitable coordinate data format (you may use the provided function `create_coordinate_array` for this)\n",
    "* Feed the resulting coordinates into the `gaussian_kde` function and estimate the function\n",
    "* Also convert the `geometry` of the Airbnb listings into the coordinate data format (you may use the provided function `create_coordinate_array` for this)\n",
    "* Using the converted Airbnb geometries, compute the KDE for the locations of the Airbnb listings\n",
    "* Add the KDE estimate as additional columns to your original airbnb geodataframe"
   ]
  },
  {
   "cell_type": "code",
   "execution_count": null,
   "metadata": {},
   "outputs": [],
   "source": [
    "from scipy.stats import gaussian_kde"
   ]
  },
  {
   "cell_type": "code",
   "execution_count": null,
   "metadata": {},
   "outputs": [],
   "source": [
    "# helper function to convert the geometries into a suitable coordinate format for the KDE\n",
    "def create_coordinate_array(geometries): \n",
    "    x_values = []\n",
    "    y_values = []\n",
    "\n",
    "# Iterate through each row in the GeoDataFrame\n",
    "    for multipoint in geometries:\n",
    "        # Ensure the geometry is indeed MultiPoint; if it's just a single Point, wrap it in a list\n",
    "        points = list(multipoint.geoms) if hasattr(multipoint, \"geoms\") else [multipoint]\n",
    "        \n",
    "        # For each Point in the MultiPoint, extract x and y values\n",
    "        for point in points:\n",
    "            x_values.append(point.x)\n",
    "            y_values.append(point.y)\n",
    "\n",
    "    # Optionally, convert the lists to numpy arrays for further processing\n",
    "    x_values = np.array(x_values)\n",
    "    y_values = np.array(y_values)\n",
    "\n",
    "    # Rearrange data to create a 2D array of x and y coordinates\n",
    "    xy = np.vstack([x_values,y_values])\n",
    "\n",
    "    return xy\n",
    "\n",
    "\n",
    "# Example Usage for the Airbnb geodataframe\n",
    "#airbnb_array = create_coordinate_array(airbnb.geometry)"
   ]
  },
  {
   "cell_type": "code",
   "execution_count": null,
   "metadata": {},
   "outputs": [],
   "source": [
    "#<Your code here>\n",
    "\n",
    "#pro POI amenity type eine KDE durchführen und an Original Geodataframe anhängen als Spalte\n",
    "\n",
    "\n",
    "# Rearrange data to create a 2D array of x and y coordinates\n",
    "#xy = np.vstack([x_values,y_values])\n",
    "\n",
    "#POI Bar\n",
    "xyBars = create_coordinate_array(poiBars.geometry)\n",
    "\n",
    "# Compute the density estimation\n",
    "kde = gaussian_kde(xyBars)\n",
    "\n",
    "# Define the grid points where you want to calculate the density\n",
    "xmin, xmax = xyBars[0].min(), xyBars[0].max()\n",
    "ymin, ymax = xyBars[1].min(), xyBars[1].max()\n",
    "\n",
    "xx, yy = np.mgrid[xmin:xmax:100j, ymin:ymax:100j] #generate 100 evenly spaced points between min and max\n",
    "\n",
    "# Evaluate the density at grid points\n",
    "density = kde(np.vstack([xx.ravel(), yy.ravel()]))\n",
    "density = density.reshape(xx.shape) # reshape to the original shape of xx (for plotting)\n",
    "\n",
    "#POI ATMs\n",
    "xyATMs = create_coordinate_array(poiBars.geometry)\n",
    "\n",
    "# Compute the density estimation\n",
    "kde = gaussian_kde(xyATMs)\n",
    "\n",
    "# Define the grid points where you want to calculate the density\n",
    "xmin, xmax = xyATMs[0].min(), xyATMs[0].max()\n",
    "ymin, ymax = xyATMs[1].min(), xyATMs[1].max()\n",
    "\n",
    "xx, yy = np.mgrid[xmin:xmax:100j, ymin:ymax:100j] #generate 100 evenly spaced points between min and max\n",
    "\n",
    "# Evaluate the density at grid points\n",
    "density = kde(np.vstack([xx.ravel(), yy.ravel()]))\n",
    "density = density.reshape(xx.shape) # reshape to the original shape of xx (for plotting)\n",
    "\n"
   ]
  },
  {
   "cell_type": "markdown",
   "metadata": {},
   "source": [
    "Create a spatial point plot(s) of the Airbnb listings and color the points according to the KDE estimates, in order to check your results."
   ]
  },
  {
   "cell_type": "code",
   "execution_count": null,
   "metadata": {},
   "outputs": [],
   "source": [
    "# <your code here>\n",
    "plt.imshow(np.rot90(density), cmap='hot', extent=[xmin, xmax, ymin, ymax])\n",
    "plt.colorbar(label='Density')\n",
    "plt.scatter(xyBars[0], xyBars[1], s=10, c='blue', alpha=0.5)\n",
    "plt.title('POIs')\n",
    "#plt.xlabel('Longitude')\n",
    "#plt.ylabel('Latitude')\n",
    "plt.show()"
   ]
  },
  {
   "cell_type": "markdown",
   "metadata": {},
   "source": [
    "# PART 3: Modeling and Analysis (aka Machine Learning)"
   ]
  },
  {
   "cell_type": "markdown",
   "metadata": {},
   "source": [
    "Use your dataset generated in the previous steps to predict AirBnb prices\n",
    "\n",
    "Instructions:\n",
    "\n",
    "* Split your data set into training and validation data sets\n",
    "* Define an error metric (or several)\n",
    "* Train at least one machine learning model (e.g. random forest) \n",
    "* Tune the hyperparameters (if applicable for the model)\n",
    "* Evaluate the accuracy of the predicted prices against actual prices\n",
    "* Compare the performance of the previous models when using different input data sets (benchmarks). Make sure to include the naive benchmark of predicting always the mean price."
   ]
  },
  {
   "cell_type": "code",
   "execution_count": null,
   "metadata": {},
   "outputs": [],
   "source": [
    "from sklearn.model_selection import train_test_split\n",
    "\n",
    "X = \"\"\n",
    "y = \"\""
   ]
  },
  {
   "cell_type": "markdown",
   "metadata": {},
   "source": [
    "## Model 1: Trivial Baseline"
   ]
  },
  {
   "cell_type": "code",
   "execution_count": null,
   "metadata": {},
   "outputs": [],
   "source": [
    "# Trivial baseline: Predict always the mean price \n",
    "# <your code here>"
   ]
  },
  {
   "cell_type": "markdown",
   "metadata": {},
   "source": [
    "## Model 2: ..."
   ]
  },
  {
   "cell_type": "code",
   "execution_count": null,
   "metadata": {},
   "outputs": [],
   "source": [
    "# <your code here>"
   ]
  },
  {
   "cell_type": "markdown",
   "metadata": {},
   "source": [
    "## Model 3: ..."
   ]
  }
 ],
 "metadata": {
  "celltoolbar": "Slideshow",
  "colab": {
   "provenance": []
  },
  "kernelspec": {
   "display_name": "Python 3 (ipykernel)",
   "language": "python",
   "name": "python3"
  },
  "language_info": {
   "codemirror_mode": {
    "name": "ipython",
    "version": 3
   },
   "file_extension": ".py",
   "mimetype": "text/x-python",
   "name": "python",
   "nbconvert_exporter": "python",
   "pygments_lexer": "ipython3",
   "version": "3.8.17"
  },
  "rise": {
   "enable_chalkboard": false,
   "overlay": "<div class='background'></div><div class='header'>WS 23/24</br>Smart Cities & GSDA</div><div class='logo'><img src='images/unilogo.png'></div><div class='bar'></div>",
   "scroll": true,
   "slideNumber": "h.v"
  },
  "toc-autonumbering": false,
  "toc-showtags": false
 },
 "nbformat": 4,
 "nbformat_minor": 4
}
