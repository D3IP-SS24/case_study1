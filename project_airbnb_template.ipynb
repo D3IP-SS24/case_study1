{
 "cells": [
  {
   "cell_type": "markdown",
   "metadata": {
    "id": "RZzQrlYHFI-c",
    "slideshow": {
     "slide_type": "slide"
    }
   },
   "source": [
    "<div class='bar_title'></div>\n",
    "\n",
    "*Data Driven Decisions in Practice (D3IP): Urban Analytics*\n",
    "\n",
    "# Case Study: Predicting AirBnB Accomodation Prices\n",
    "\n",
    "Gunther Gust & Nikolai Stein\n",
    "\n",
    "Data Driven Decisions (D3) Group <br>\n",
    "Center for Artificial Intelligence & Data Science <br>\n",
    "\n"
   ]
  },
  {
   "cell_type": "markdown",
   "metadata": {},
   "source": [
    "<img src=\"images/d3.png\" style=\"width:20%; float:left;\" />"
   ]
  },
  {
   "cell_type": "markdown",
   "metadata": {},
   "source": [
    "<img src=\"images/CAIDASlogo.png\" style=\"width:20%; float:left;\" />"
   ]
  },
  {
   "cell_type": "markdown",
   "metadata": {
    "id": "bKaui31bFI-d",
    "slideshow": {
     "slide_type": "slide"
    }
   },
   "source": [
    "Complete the case study outlined by the steps below. Remember to always comment your code and document your findings so that your notebook is easy to read and follow! (Apart from correctness, the style of the notebook will also affect your grade!)\n",
    "\n"
   ]
  },
  {
   "cell_type": "markdown",
   "metadata": {},
   "source": [
    "# PART 1: Data Loading and Exploratory Data Analysis"
   ]
  },
  {
   "cell_type": "markdown",
   "metadata": {},
   "source": [
    "Insructions:\n",
    "\n",
    "* Load the `airbnb.geojson` file into this notebook as a geodataframe\n",
    "* Explore the content of each column of the geodataframe using methods of your choice (descriptive statistics, plots etc.). Describe your findings in the markdown cells.\n",
    "* Create a plot that displays the location of the airbnb listings and the price. Add a basemap of San Diego to the plot."
   ]
  },
  {
   "cell_type": "code",
   "execution_count": 82,
   "metadata": {},
   "outputs": [],
   "source": [
    "import pandas as pd\n",
    "import numpy as np\n",
    "import geopandas as gpd\n",
    "\n",
    "import matplotlib.pyplot as plt \n",
    "import seaborn as sns\n",
    "import contextily as cx"
   ]
  },
  {
   "cell_type": "code",
   "execution_count": 83,
   "metadata": {},
   "outputs": [
    {
     "name": "stdout",
     "output_type": "stream",
     "text": [
      "   accommodates  bathrooms  bedrooms  beds  rt_Private_room  rt_Shared_room  \\\n",
      "0             5        2.0       2.0   2.0                0               0   \n",
      "1             6        1.0       2.0   4.0                0               0   \n",
      "2             2        1.0       1.0   1.0                1               0   \n",
      "3             2        1.0       1.0   1.0                1               0   \n",
      "4             2        1.0       1.0   1.0                1               0   \n",
      "\n",
      "   pg_Condominium  pg_House  pg_Other  pg_Townhouse  price  \\\n",
      "0               0         1         0             0  425.0   \n",
      "1               1         0         0             0  205.0   \n",
      "2               0         0         0             0   99.0   \n",
      "3               0         1         0             0   72.0   \n",
      "4               0         1         0             0   55.0   \n",
      "\n",
      "                      geometry  \n",
      "0  POINT (-117.12971 32.75399)  \n",
      "1  POINT (-117.25253 32.78421)  \n",
      "2  POINT (-117.14121 32.75327)  \n",
      "3  POINT (-117.15269 32.93110)  \n",
      "4  POINT (-117.21870 32.74202)  \n"
     ]
    }
   ],
   "source": [
    "file_path = '/workspaces/case-study-1-urban-analytics-barculaamula/airbnb_listings.geojson'\n",
    "\n",
    "gdf = gpd.read_file(file_path)\n",
    "\n",
    "print(gdf.head())"
   ]
  },
  {
   "cell_type": "markdown",
   "metadata": {},
   "source": [
    "These are the variables you should analyze and later use to predict the `price`:"
   ]
  },
  {
   "cell_type": "code",
   "execution_count": 84,
   "metadata": {},
   "outputs": [],
   "source": [
    "\n",
    "variable_names = [\n",
    "    \"accommodates\",  # Number of people it accommodates\n",
    "    \"bathrooms\",  # Number of bathrooms\n",
    "    \"bedrooms\",  # Number of bedrooms\n",
    "    \"beds\",  # Number of beds\n",
    "    # Below are binary variables, 1 True, 0 False\n",
    "    \"rt_Private_room\",  # Room type: private room\n",
    "    \"rt_Shared_room\",  # Room type: shared room\n",
    "    \"pg_Condominium\",  # Property group: condo\n",
    "    \"pg_House\",  # Property group: house\n",
    "    \"pg_Other\",  # Property group: other\n",
    "    \"pg_Townhouse\",  # Property group: townhouse\n",
    "]"
   ]
  },
  {
   "cell_type": "markdown",
   "metadata": {},
   "source": [
    "# PART 2 Feature Engineering: Get points-of-interest (POIs) and prepare them"
   ]
  },
  {
   "cell_type": "markdown",
   "metadata": {},
   "source": [
    "Instructions:\n",
    "\n",
    "* Use the method `features_from_address()` of osmnx to download POIs of the type `amenity` (select the types of amenities to include from this list here: https://wiki.openstreetmap.org/wiki/Key:amenity)\n",
    "* Pay attention to set the `dist` parameter to an appropiate value "
   ]
  },
  {
   "cell_type": "code",
   "execution_count": 85,
   "metadata": {},
   "outputs": [],
   "source": [
    "import osmnx as ox\n",
    "import matplotlib.pyplot as plt\n",
    "import geopandas as gpd"
   ]
  },
  {
   "cell_type": "code",
   "execution_count": 86,
   "metadata": {},
   "outputs": [
    {
     "name": "stderr",
     "output_type": "stream",
     "text": [
      "/tmp/ipykernel_31036/423594779.py:11: FutureWarning: The `geometries` module and `geometries_from_X` functions have been renamed the `features` module and `features_from_X` functions. Use these instead. The `geometries` module and function names are deprecated and will be removed in the v2.0.0 release. See the OSMnx v2 migration guide: https://github.com/gboeing/osmnx/issues/1123\n",
      "  pois = ox.geometries_from_address(address, tags=tags, dist=distance)\n"
     ]
    }
   ],
   "source": [
    "address = \"San Diego, California, USA\"\n",
    "distance = 5000\n",
    "tags = {'amenity': [\n",
    "    \"museum\", \"historic_site\", \"monument\", \"art_gallery\",\n",
    "    \"park\", \"beach\", \"theme_park\", \"cinema\", \"theatre\",\n",
    "    \"restaurant\", \"cafe\", \"bar\", \"nightclub\", \"marketplace\",\n",
    "    \"shopping_centre\", \"boutique\", \"shop\", \"souvenir\",\n",
    "    \"bus_station\", \"train_station\", \"bicycle_rental\", \"parking\",\n",
    "    \"trail\", \"nature_reserve\", \"garden\"\n",
    "    ]}\n",
    "pois = ox.geometries_from_address(address, tags=tags, dist=distance)\n",
    "\n",
    "pois = pois[pois.geom_type == 'Point'].reset_index(drop=True)"
   ]
  },
  {
   "cell_type": "code",
   "execution_count": 87,
   "metadata": {},
   "outputs": [
    {
     "data": {
      "text/html": [
       "<div>\n",
       "<style scoped>\n",
       "    .dataframe tbody tr th:only-of-type {\n",
       "        vertical-align: middle;\n",
       "    }\n",
       "\n",
       "    .dataframe tbody tr th {\n",
       "        vertical-align: top;\n",
       "    }\n",
       "\n",
       "    .dataframe thead th {\n",
       "        text-align: right;\n",
       "    }\n",
       "</style>\n",
       "<table border=\"1\" class=\"dataframe\">\n",
       "  <thead>\n",
       "    <tr style=\"text-align: right;\">\n",
       "      <th></th>\n",
       "      <th>addr:city</th>\n",
       "      <th>addr:housenumber</th>\n",
       "      <th>addr:postcode</th>\n",
       "      <th>addr:state</th>\n",
       "      <th>addr:street</th>\n",
       "      <th>amenity</th>\n",
       "      <th>name</th>\n",
       "      <th>geometry</th>\n",
       "      <th>changing_table</th>\n",
       "      <th>cuisine</th>\n",
       "      <th>...</th>\n",
       "      <th>room</th>\n",
       "      <th>amenity_1</th>\n",
       "      <th>smoothness</th>\n",
       "      <th>screen</th>\n",
       "      <th>open_air</th>\n",
       "      <th>parking:orientation</th>\n",
       "      <th>building:colour</th>\n",
       "      <th>roof:colour</th>\n",
       "      <th>male</th>\n",
       "      <th>ways</th>\n",
       "    </tr>\n",
       "  </thead>\n",
       "  <tbody>\n",
       "    <tr>\n",
       "      <th>0</th>\n",
       "      <td>San Diego</td>\n",
       "      <td>721</td>\n",
       "      <td>92101</td>\n",
       "      <td>CA</td>\n",
       "      <td>9th Avenue</td>\n",
       "      <td>restaurant</td>\n",
       "      <td>Wicked Chicken</td>\n",
       "      <td>POINT (-117.15631 32.71273)</td>\n",
       "      <td>NaN</td>\n",
       "      <td>NaN</td>\n",
       "      <td>...</td>\n",
       "      <td>NaN</td>\n",
       "      <td>NaN</td>\n",
       "      <td>NaN</td>\n",
       "      <td>NaN</td>\n",
       "      <td>NaN</td>\n",
       "      <td>NaN</td>\n",
       "      <td>NaN</td>\n",
       "      <td>NaN</td>\n",
       "      <td>NaN</td>\n",
       "      <td>NaN</td>\n",
       "    </tr>\n",
       "    <tr>\n",
       "      <th>1</th>\n",
       "      <td>San Diego</td>\n",
       "      <td>222</td>\n",
       "      <td>92101</td>\n",
       "      <td>CA</td>\n",
       "      <td>Island Avenue</td>\n",
       "      <td>restaurant</td>\n",
       "      <td>Cafe 222</td>\n",
       "      <td>POINT (-117.16267 32.71056)</td>\n",
       "      <td>yes</td>\n",
       "      <td>breakfast;sandwich</td>\n",
       "      <td>...</td>\n",
       "      <td>NaN</td>\n",
       "      <td>NaN</td>\n",
       "      <td>NaN</td>\n",
       "      <td>NaN</td>\n",
       "      <td>NaN</td>\n",
       "      <td>NaN</td>\n",
       "      <td>NaN</td>\n",
       "      <td>NaN</td>\n",
       "      <td>NaN</td>\n",
       "      <td>NaN</td>\n",
       "    </tr>\n",
       "    <tr>\n",
       "      <th>2</th>\n",
       "      <td>NaN</td>\n",
       "      <td>NaN</td>\n",
       "      <td>NaN</td>\n",
       "      <td>NaN</td>\n",
       "      <td>NaN</td>\n",
       "      <td>parking</td>\n",
       "      <td>NaN</td>\n",
       "      <td>POINT (-117.15097 32.74942)</td>\n",
       "      <td>NaN</td>\n",
       "      <td>NaN</td>\n",
       "      <td>...</td>\n",
       "      <td>NaN</td>\n",
       "      <td>NaN</td>\n",
       "      <td>NaN</td>\n",
       "      <td>NaN</td>\n",
       "      <td>NaN</td>\n",
       "      <td>NaN</td>\n",
       "      <td>NaN</td>\n",
       "      <td>NaN</td>\n",
       "      <td>NaN</td>\n",
       "      <td>NaN</td>\n",
       "    </tr>\n",
       "    <tr>\n",
       "      <th>3</th>\n",
       "      <td>NaN</td>\n",
       "      <td>NaN</td>\n",
       "      <td>NaN</td>\n",
       "      <td>NaN</td>\n",
       "      <td>NaN</td>\n",
       "      <td>parking</td>\n",
       "      <td>NaN</td>\n",
       "      <td>POINT (-117.15981 32.74716)</td>\n",
       "      <td>NaN</td>\n",
       "      <td>NaN</td>\n",
       "      <td>...</td>\n",
       "      <td>NaN</td>\n",
       "      <td>NaN</td>\n",
       "      <td>NaN</td>\n",
       "      <td>NaN</td>\n",
       "      <td>NaN</td>\n",
       "      <td>NaN</td>\n",
       "      <td>NaN</td>\n",
       "      <td>NaN</td>\n",
       "      <td>NaN</td>\n",
       "      <td>NaN</td>\n",
       "    </tr>\n",
       "    <tr>\n",
       "      <th>4</th>\n",
       "      <td>NaN</td>\n",
       "      <td>NaN</td>\n",
       "      <td>NaN</td>\n",
       "      <td>NaN</td>\n",
       "      <td>NaN</td>\n",
       "      <td>parking</td>\n",
       "      <td>NaN</td>\n",
       "      <td>POINT (-117.14592 32.74660)</td>\n",
       "      <td>NaN</td>\n",
       "      <td>NaN</td>\n",
       "      <td>...</td>\n",
       "      <td>NaN</td>\n",
       "      <td>NaN</td>\n",
       "      <td>NaN</td>\n",
       "      <td>NaN</td>\n",
       "      <td>NaN</td>\n",
       "      <td>NaN</td>\n",
       "      <td>NaN</td>\n",
       "      <td>NaN</td>\n",
       "      <td>NaN</td>\n",
       "      <td>NaN</td>\n",
       "    </tr>\n",
       "  </tbody>\n",
       "</table>\n",
       "<p>5 rows × 181 columns</p>\n",
       "</div>"
      ],
      "text/plain": [
       "   addr:city addr:housenumber addr:postcode addr:state    addr:street  \\\n",
       "0  San Diego              721         92101         CA     9th Avenue   \n",
       "1  San Diego              222         92101         CA  Island Avenue   \n",
       "2        NaN              NaN           NaN        NaN            NaN   \n",
       "3        NaN              NaN           NaN        NaN            NaN   \n",
       "4        NaN              NaN           NaN        NaN            NaN   \n",
       "\n",
       "      amenity            name                     geometry changing_table  \\\n",
       "0  restaurant  Wicked Chicken  POINT (-117.15631 32.71273)            NaN   \n",
       "1  restaurant        Cafe 222  POINT (-117.16267 32.71056)            yes   \n",
       "2     parking             NaN  POINT (-117.15097 32.74942)            NaN   \n",
       "3     parking             NaN  POINT (-117.15981 32.74716)            NaN   \n",
       "4     parking             NaN  POINT (-117.14592 32.74660)            NaN   \n",
       "\n",
       "              cuisine  ... room amenity_1 smoothness screen open_air  \\\n",
       "0                 NaN  ...  NaN       NaN        NaN    NaN      NaN   \n",
       "1  breakfast;sandwich  ...  NaN       NaN        NaN    NaN      NaN   \n",
       "2                 NaN  ...  NaN       NaN        NaN    NaN      NaN   \n",
       "3                 NaN  ...  NaN       NaN        NaN    NaN      NaN   \n",
       "4                 NaN  ...  NaN       NaN        NaN    NaN      NaN   \n",
       "\n",
       "  parking:orientation building:colour roof:colour male ways  \n",
       "0                 NaN             NaN         NaN  NaN  NaN  \n",
       "1                 NaN             NaN         NaN  NaN  NaN  \n",
       "2                 NaN             NaN         NaN  NaN  NaN  \n",
       "3                 NaN             NaN         NaN  NaN  NaN  \n",
       "4                 NaN             NaN         NaN  NaN  NaN  \n",
       "\n",
       "[5 rows x 181 columns]"
      ]
     },
     "execution_count": 87,
     "metadata": {},
     "output_type": "execute_result"
    }
   ],
   "source": [
    "pois.head()"
   ]
  },
  {
   "cell_type": "markdown",
   "metadata": {},
   "source": [
    "Data cleaning: The resulting `pois` geodataframe may have a composite row index. In addition, some POIs may be of a strange element_type. You can use the following code to eliminate these issues."
   ]
  },
  {
   "cell_type": "code",
   "execution_count": 88,
   "metadata": {},
   "outputs": [
    {
     "data": {
      "text/html": [
       "<div>\n",
       "<style scoped>\n",
       "    .dataframe tbody tr th:only-of-type {\n",
       "        vertical-align: middle;\n",
       "    }\n",
       "\n",
       "    .dataframe tbody tr th {\n",
       "        vertical-align: top;\n",
       "    }\n",
       "\n",
       "    .dataframe thead th {\n",
       "        text-align: right;\n",
       "    }\n",
       "</style>\n",
       "<table border=\"1\" class=\"dataframe\">\n",
       "  <thead>\n",
       "    <tr style=\"text-align: right;\">\n",
       "      <th></th>\n",
       "      <th>index</th>\n",
       "      <th>addr:city</th>\n",
       "      <th>addr:housenumber</th>\n",
       "      <th>addr:postcode</th>\n",
       "      <th>addr:state</th>\n",
       "      <th>addr:street</th>\n",
       "      <th>amenity</th>\n",
       "      <th>name</th>\n",
       "      <th>geometry</th>\n",
       "      <th>changing_table</th>\n",
       "      <th>...</th>\n",
       "      <th>room</th>\n",
       "      <th>amenity_1</th>\n",
       "      <th>smoothness</th>\n",
       "      <th>screen</th>\n",
       "      <th>open_air</th>\n",
       "      <th>parking:orientation</th>\n",
       "      <th>building:colour</th>\n",
       "      <th>roof:colour</th>\n",
       "      <th>male</th>\n",
       "      <th>ways</th>\n",
       "    </tr>\n",
       "  </thead>\n",
       "  <tbody>\n",
       "    <tr>\n",
       "      <th>0</th>\n",
       "      <td>0</td>\n",
       "      <td>San Diego</td>\n",
       "      <td>721</td>\n",
       "      <td>92101</td>\n",
       "      <td>CA</td>\n",
       "      <td>9th Avenue</td>\n",
       "      <td>restaurant</td>\n",
       "      <td>Wicked Chicken</td>\n",
       "      <td>POINT (-117.15631 32.71273)</td>\n",
       "      <td>NaN</td>\n",
       "      <td>...</td>\n",
       "      <td>NaN</td>\n",
       "      <td>NaN</td>\n",
       "      <td>NaN</td>\n",
       "      <td>NaN</td>\n",
       "      <td>NaN</td>\n",
       "      <td>NaN</td>\n",
       "      <td>NaN</td>\n",
       "      <td>NaN</td>\n",
       "      <td>NaN</td>\n",
       "      <td>NaN</td>\n",
       "    </tr>\n",
       "    <tr>\n",
       "      <th>1</th>\n",
       "      <td>1</td>\n",
       "      <td>San Diego</td>\n",
       "      <td>222</td>\n",
       "      <td>92101</td>\n",
       "      <td>CA</td>\n",
       "      <td>Island Avenue</td>\n",
       "      <td>restaurant</td>\n",
       "      <td>Cafe 222</td>\n",
       "      <td>POINT (-117.16267 32.71056)</td>\n",
       "      <td>yes</td>\n",
       "      <td>...</td>\n",
       "      <td>NaN</td>\n",
       "      <td>NaN</td>\n",
       "      <td>NaN</td>\n",
       "      <td>NaN</td>\n",
       "      <td>NaN</td>\n",
       "      <td>NaN</td>\n",
       "      <td>NaN</td>\n",
       "      <td>NaN</td>\n",
       "      <td>NaN</td>\n",
       "      <td>NaN</td>\n",
       "    </tr>\n",
       "    <tr>\n",
       "      <th>2</th>\n",
       "      <td>2</td>\n",
       "      <td>NaN</td>\n",
       "      <td>NaN</td>\n",
       "      <td>NaN</td>\n",
       "      <td>NaN</td>\n",
       "      <td>NaN</td>\n",
       "      <td>parking</td>\n",
       "      <td>NaN</td>\n",
       "      <td>POINT (-117.15097 32.74942)</td>\n",
       "      <td>NaN</td>\n",
       "      <td>...</td>\n",
       "      <td>NaN</td>\n",
       "      <td>NaN</td>\n",
       "      <td>NaN</td>\n",
       "      <td>NaN</td>\n",
       "      <td>NaN</td>\n",
       "      <td>NaN</td>\n",
       "      <td>NaN</td>\n",
       "      <td>NaN</td>\n",
       "      <td>NaN</td>\n",
       "      <td>NaN</td>\n",
       "    </tr>\n",
       "    <tr>\n",
       "      <th>3</th>\n",
       "      <td>3</td>\n",
       "      <td>NaN</td>\n",
       "      <td>NaN</td>\n",
       "      <td>NaN</td>\n",
       "      <td>NaN</td>\n",
       "      <td>NaN</td>\n",
       "      <td>parking</td>\n",
       "      <td>NaN</td>\n",
       "      <td>POINT (-117.15981 32.74716)</td>\n",
       "      <td>NaN</td>\n",
       "      <td>...</td>\n",
       "      <td>NaN</td>\n",
       "      <td>NaN</td>\n",
       "      <td>NaN</td>\n",
       "      <td>NaN</td>\n",
       "      <td>NaN</td>\n",
       "      <td>NaN</td>\n",
       "      <td>NaN</td>\n",
       "      <td>NaN</td>\n",
       "      <td>NaN</td>\n",
       "      <td>NaN</td>\n",
       "    </tr>\n",
       "    <tr>\n",
       "      <th>4</th>\n",
       "      <td>4</td>\n",
       "      <td>NaN</td>\n",
       "      <td>NaN</td>\n",
       "      <td>NaN</td>\n",
       "      <td>NaN</td>\n",
       "      <td>NaN</td>\n",
       "      <td>parking</td>\n",
       "      <td>NaN</td>\n",
       "      <td>POINT (-117.14592 32.74660)</td>\n",
       "      <td>NaN</td>\n",
       "      <td>...</td>\n",
       "      <td>NaN</td>\n",
       "      <td>NaN</td>\n",
       "      <td>NaN</td>\n",
       "      <td>NaN</td>\n",
       "      <td>NaN</td>\n",
       "      <td>NaN</td>\n",
       "      <td>NaN</td>\n",
       "      <td>NaN</td>\n",
       "      <td>NaN</td>\n",
       "      <td>NaN</td>\n",
       "    </tr>\n",
       "  </tbody>\n",
       "</table>\n",
       "<p>5 rows × 182 columns</p>\n",
       "</div>"
      ],
      "text/plain": [
       "   index  addr:city addr:housenumber addr:postcode addr:state    addr:street  \\\n",
       "0      0  San Diego              721         92101         CA     9th Avenue   \n",
       "1      1  San Diego              222         92101         CA  Island Avenue   \n",
       "2      2        NaN              NaN           NaN        NaN            NaN   \n",
       "3      3        NaN              NaN           NaN        NaN            NaN   \n",
       "4      4        NaN              NaN           NaN        NaN            NaN   \n",
       "\n",
       "      amenity            name                     geometry changing_table  \\\n",
       "0  restaurant  Wicked Chicken  POINT (-117.15631 32.71273)            NaN   \n",
       "1  restaurant        Cafe 222  POINT (-117.16267 32.71056)            yes   \n",
       "2     parking             NaN  POINT (-117.15097 32.74942)            NaN   \n",
       "3     parking             NaN  POINT (-117.15981 32.74716)            NaN   \n",
       "4     parking             NaN  POINT (-117.14592 32.74660)            NaN   \n",
       "\n",
       "   ... room amenity_1 smoothness screen open_air parking:orientation  \\\n",
       "0  ...  NaN       NaN        NaN    NaN      NaN                 NaN   \n",
       "1  ...  NaN       NaN        NaN    NaN      NaN                 NaN   \n",
       "2  ...  NaN       NaN        NaN    NaN      NaN                 NaN   \n",
       "3  ...  NaN       NaN        NaN    NaN      NaN                 NaN   \n",
       "4  ...  NaN       NaN        NaN    NaN      NaN                 NaN   \n",
       "\n",
       "  building:colour roof:colour male ways  \n",
       "0             NaN         NaN  NaN  NaN  \n",
       "1             NaN         NaN  NaN  NaN  \n",
       "2             NaN         NaN  NaN  NaN  \n",
       "3             NaN         NaN  NaN  NaN  \n",
       "4             NaN         NaN  NaN  NaN  \n",
       "\n",
       "[5 rows x 182 columns]"
      ]
     },
     "execution_count": 88,
     "metadata": {},
     "output_type": "execute_result"
    }
   ],
   "source": [
    "# Clean the POI data\n",
    "pois.reset_index(inplace=True) # reset the index of the data frame\n",
    "pois = pois[pois.geom_type==\"Point\"] # eliminate all POIs that are not of the type \"node\"\n",
    "pois.head() # check the results"
   ]
  },
  {
   "cell_type": "markdown",
   "metadata": {},
   "source": [
    "Instructions:\n",
    "* Plot the POIs spatially (use again a background map of San Diego)\n",
    "* When you use POIs of different amenity types, color the POIs differently"
   ]
  },
  {
   "cell_type": "code",
   "execution_count": 89,
   "metadata": {},
   "outputs": [
    {
     "name": "stderr",
     "output_type": "stream",
     "text": [
      "/tmp/ipykernel_31036/2745024932.py:11: FutureWarning: The `geometries` module and `geometries_from_X` functions have been renamed the `features` module and `features_from_X` functions. Use these instead. The `geometries` module and function names are deprecated and will be removed in the v2.0.0 release. See the OSMnx v2 migration guide: https://github.com/gboeing/osmnx/issues/1123\n",
      "  pois = ox.geometries_from_address(address, tags=tags, dist=distance)\n"
     ]
    },
    {
     "data": {
      "image/png": "[encoded data removed]",
      "text/plain": [
       "<Figure size 1000x1000 with 1 Axes>"
      ]
     },
     "metadata": {},
     "output_type": "display_data"
    }
   ],
   "source": [
    "tags = {'amenity': [\n",
    "    \"museum\", \"historic_site\", \"monument\", \"art_gallery\",\n",
    "    \"park\", \"beach\", \"theme_park\", \"cinema\", \"theatre\",\n",
    "    \"restaurant\", \"cafe\", \"bar\", \"nightclub\", \"marketplace\",\n",
    "    \"shopping_centre\", \"boutique\", \"shop\", \"souvenir\",\n",
    "    \"bus_station\", \"train_station\", \"bicycle_rental\", \"parking\",\n",
    "    \"trail\", \"nature_reserve\", \"garden\"]}\n",
    "\n",
    "address = \"San Diego, California, USA\"\n",
    "distance = 5000  # meters\n",
    "pois = ox.geometries_from_address(address, tags=tags, dist=distance)\n",
    "\n",
    "pois = pois[pois.geometry.type == 'Point'].reset_index(drop=True)\n",
    "\n",
    "fig, ax = plt.subplots(figsize=(10, 10))\n",
    "\n",
    "area = ox.geocode_to_gdf(address)\n",
    "base = ox.project_gdf(area).plot(ax=ax, facecolor='black')\n",
    "\n",
    "pois = pois.set_crs(area.crs)\n",
    "\n",
    "for amenity_type, data in pois.groupby('amenity'):\n",
    "    data.plot(ax=ax, markersize=100, label=amenity_type, alpha=0.7)\n",
    "\n",
    "plt.legend(title='Amenity Type')\n",
    "plt.title(\"Points of Interest in San Diego by Amenity Type\")\n",
    "plt.xlabel(\"Longitude\")\n",
    "plt.ylabel(\"Latitude\")\n",
    "plt.show()"
   ]
  },
  {
   "cell_type": "markdown",
   "metadata": {},
   "source": [
    "For each POI amenity type, create a kernel density estimation (KDE):\n",
    "* Convert the `geometry` of the POI into a suitable coordinate data format (you may use the provided function `create_coordinate_array` for this)\n",
    "* Feed the resulting coordinates into the `gaussian_kde` function and estimate the function\n",
    "* Also convert the `geometry` of the Airbnb listings into the coordinate data format (you may use the provided function `create_coordinate_array` for this)\n",
    "* Using the converted Airbnb geometries, compute the KDE for the locations of the Airbnb listings\n",
    "* Add the KDE estimate as additional columns to your original airbnb geodataframe"
   ]
  },
  {
   "cell_type": "code",
   "execution_count": 90,
   "metadata": {},
   "outputs": [],
   "source": [
    "from scipy.stats import gaussian_kde"
   ]
  },
  {
   "cell_type": "code",
   "execution_count": 91,
   "metadata": {},
   "outputs": [
    {
     "ename": "NameError",
     "evalue": "name 'airbnb' is not defined",
     "output_type": "error",
     "traceback": [
      "\u001b[0;31m---------------------------------------------------------------------------\u001b[0m",
      "\u001b[0;31mNameError\u001b[0m                                 Traceback (most recent call last)",
      "Cell \u001b[0;32mIn[91], line 27\u001b[0m\n\u001b[1;32m     23\u001b[0m     \u001b[38;5;28;01mreturn\u001b[39;00m xy\n\u001b[1;32m     26\u001b[0m \u001b[38;5;66;03m# Example Usage for the Airbnb geodataframe\u001b[39;00m\n\u001b[0;32m---> 27\u001b[0m airbnb_array \u001b[38;5;241m=\u001b[39m create_coordinate_array(\u001b[43mairbnb\u001b[49m\u001b[38;5;241m.\u001b[39mgeometry)\n",
      "\u001b[0;31mNameError\u001b[0m: name 'airbnb' is not defined"
     ]
    }
   ],
   "source": [
    "# helper function to convert the geometries into a suitable coordinate format for the KDE\n",
    "def create_coordinate_array(geometries): \n",
    "    x_values = []\n",
    "    y_values = []\n",
    "\n",
    "# Iterate through each row in the GeoDataFrame\n",
    "    for multipoint in geometries:\n",
    "        # Ensure the geometry is indeed MultiPoint; if it's just a single Point, wrap it in a list\n",
    "        points = list(multipoint.geoms) if hasattr(multipoint, \"geoms\") else [multipoint]\n",
    "        \n",
    "        # For each Point in the MultiPoint, extract x and y values\n",
    "        for point in points:\n",
    "            x_values.append(point.x)\n",
    "            y_values.append(point.y)\n",
    "\n",
    "    # Optionally, convert the lists to numpy arrays for further processing\n",
    "    x_values = np.array(x_values)\n",
    "    y_values = np.array(y_values)\n",
    "\n",
    "    # Rearrange data to create a 2D array of x and y coordinates\n",
    "    xy = np.vstack([x_values,y_values])\n",
    "\n",
    "    return xy\n",
    "\n",
    "\n",
    "# Example Usage for the Airbnb geodataframe\n",
    "airbnb_array = create_coordinate_array(airbnb.geometry)"
   ]
  },
  {
   "cell_type": "code",
   "execution_count": null,
   "metadata": {},
   "outputs": [],
   "source": [
    "#<Your code here>"
   ]
  },
  {
   "cell_type": "markdown",
   "metadata": {},
   "source": [
    "Create a spatial point plot(s) of the Airbnb listings and color the points according to the KDE estimates, in order to check your results."
   ]
  },
  {
   "cell_type": "code",
   "execution_count": null,
   "metadata": {},
   "outputs": [],
   "source": [
    "def create_coordinate_array(geometries):\n",
    "    return np.vstack([geometries.x, geometries.y])\n",
    "\n",
    "# Assuming `airbnb` DataFrame exists with geometries\n",
    "# airbnb = ... (Load your Airbnb data here)\n",
    "\n",
    "# Calculate KDE for each amenity\n",
    "for amenity_type, data in pois.groupby('amenity'):\n",
    "    xy = create_coordinate_array(data.geometry)\n",
    "    kde = gaussian_kde(xy)\n",
    "    \n",
    "    # Evaluate KDE on a grid\n",
    "    xmin, xmax = data.geometry.x.min(), data.geometry.x.max()\n",
    "    ymin, ymax = data.geometry.y.min(), data.geometry.y.max()\n",
    "    xx, yy = np.mgrid[xmin:xmax:100j, ymin:ymax:100j]\n",
    "    positions = np.vstack([xx.ravel(), yy.ravel()])\n",
    "    f = np.reshape(kde(positions).T, xx.shape)\n",
    "    \n",
    "    # Plot KDE\n",
    "    fig, ax = plt.subplots()\n",
    "    ax.imshow(np.rot90(f), cmap='hot', extent=[xmin, xmax, ymin, ymax])\n",
    "    ax.plot(xy[0, :], xy[1, :], 'k.', markersize=2)\n",
    "    ax.set_title(f'KDE of {amenity_type} in San Diego')\n",
    "    plt.show()"
   ]
  },
  {
   "cell_type": "markdown",
   "metadata": {},
   "source": [
    "# PART 3: Modeling and Analysis (aka Machine Learning)"
   ]
  },
  {
   "cell_type": "markdown",
   "metadata": {},
   "source": [
    "Use your dataset generated in the previous steps to predict AirBnb prices\n",
    "\n",
    "Instructions:\n",
    "\n",
    "* Split your data set into training and validation data sets\n",
    "* Define an error metric (or several)\n",
    "* Train at least one machine learning model (e.g. random forest) \n",
    "* Tune the hyperparameters (if applicable for the model)\n",
    "* Evaluate the accuracy of the predicted prices against actual prices\n",
    "* Compare the performance of the previous models when using different input data sets (benchmarks). Make sure to include the naive benchmark of predicting always the mean price."
   ]
  },
  {
   "cell_type": "code",
   "execution_count": null,
   "metadata": {},
   "outputs": [],
   "source": [
    "from sklearn.model_selection import train_test_split\n",
    "\n",
    "X = \"\"\n",
    "y = \"\""
   ]
  },
  {
   "cell_type": "markdown",
   "metadata": {},
   "source": [
    "## Model 1: Trivial Baseline"
   ]
  },
  {
   "cell_type": "code",
   "execution_count": null,
   "metadata": {},
   "outputs": [],
   "source": [
    "# Trivial baseline: Predict always the mean price \n",
    "# <your code here>"
   ]
  },
  {
   "cell_type": "markdown",
   "metadata": {},
   "source": [
    "## Model 2: ..."
   ]
  },
  {
   "cell_type": "code",
   "execution_count": null,
   "metadata": {},
   "outputs": [],
   "source": [
    "# <your code here>"
   ]
  },
  {
   "cell_type": "markdown",
   "metadata": {},
   "source": [
    "## Model 3: ..."
   ]
  }
 ],
 "metadata": {
  "celltoolbar": "Slideshow",
  "colab": {
   "provenance": []
  },
  "kernelspec": {
   "display_name": "Python 3 (ipykernel)",
   "language": "python",
   "name": "python3"
  },
  "language_info": {
   "codemirror_mode": {
    "name": "ipython",
    "version": 3
   },
   "file_extension": ".py",
   "mimetype": "text/x-python",
   "name": "python",
   "nbconvert_exporter": "python",
   "pygments_lexer": "ipython3",
   "version": "3.8.17"
  },
  "rise": {
   "enable_chalkboard": false,
   "overlay": "<div class='background'></div><div class='header'>WS 23/24</br>Smart Cities & GSDA</div><div class='logo'><img src='images/unilogo.png'></div><div class='bar'></div>",
   "scroll": true,
   "slideNumber": "h.v"
  },
  "toc-autonumbering": false,
  "toc-showtags": false
 },
 "nbformat": 4,
 "nbformat_minor": 4
}
